{
  "nbformat": 4,
  "nbformat_minor": 0,
  "metadata": {
    "colab": {
      "provenance": [],
      "authorship_tag": "ABX9TyMwiugOt8y0OCrrwsMrcLKx",
      "include_colab_link": true
    },
    "kernelspec": {
      "name": "python3",
      "display_name": "Python 3"
    },
    "language_info": {
      "name": "python"
    }
  },
  "cells": [
    {
      "cell_type": "markdown",
      "metadata": {
        "id": "view-in-github",
        "colab_type": "text"
      },
      "source": [
        "<a href=\"https://colab.research.google.com/github/OscarAalexander/Python-Fulbol/blob/main/python_Repaso_1.ipynb\" target=\"_parent\"><img src=\"https://colab.research.google.com/assets/colab-badge.svg\" alt=\"Open In Colab\"/></a>"
      ]
    },
    {
      "cell_type": "code",
      "execution_count": 6,
      "metadata": {
        "id": "m0q8LV1e14sQ",
        "colab": {
          "base_uri": "https://localhost:8080/"
        },
        "outputId": "15f18386-806d-404f-e811-a40d3e51c51a"
      },
      "outputs": [
        {
          "output_type": "stream",
          "name": "stdout",
          "text": [
            "En vacaciones no hice nada\n"
          ]
        }
      ],
      "source": [
        "print(\"En vacaciones no hice nada\")"
      ]
    },
    {
      "cell_type": "code",
      "source": [
        "paises_europa = [\n",
        "    \"Albania\", \"Alemania\", \"Andorra\", \"Armenia\", \"Austria\", \"Azerbaiyán\", \"Bélgica\",\n",
        "    \"Bielorrusia\", \"Bosnia y Herzegovina\", \"Bulgaria\", \"Chipre\", \"Croacia\", \"Dinamarca\",\n",
        "    \"Eslovaquia\", \"Eslovenia\", \"España\", \"Estonia\", \"Finlandia\", \"Francia\", \"Georgia\",\n",
        "    \"Grecia\", \"Hungría\", \"Irlanda\", \"Islandia\", \"Italia\", \"Kazajistán\", \"Kosovo\", \"Letonia\",\n",
        "    \"Liechtenstein\", \"Lituania\", \"Luxemburgo\", \"Macedonia del Norte\", \"Malta\", \"Moldavia\",\n",
        "    \"Mónaco\", \"Montenegro\", \"Noruega\", \"Países Bajos\", \"Polonia\", \"Portugal\", \"Reino Unido\",\n",
        "    \"República Checa\", \"Rumania\", \"Rusia\", \"San Marino\", \"Serbia\", \"Suecia\", \"Suiza\",\n",
        "    \"Turquía\", \"Ucrania\", \"Vaticano\"\n",
        "]\n",
        "\n",
        "print(paises_europa)\n"
      ],
      "metadata": {
        "colab": {
          "base_uri": "https://localhost:8080/"
        },
        "id": "AWc_6za_6KX7",
        "outputId": "889cf38d-c80d-42ed-cab5-5d26fc6d19a4"
      },
      "execution_count": 9,
      "outputs": [
        {
          "output_type": "stream",
          "name": "stdout",
          "text": [
            "['Albania', 'Alemania', 'Andorra', 'Armenia', 'Austria', 'Azerbaiyán', 'Bélgica', 'Bielorrusia', 'Bosnia y Herzegovina', 'Bulgaria', 'Chipre', 'Croacia', 'Dinamarca', 'Eslovaquia', 'Eslovenia', 'España', 'Estonia', 'Finlandia', 'Francia', 'Georgia', 'Grecia', 'Hungría', 'Irlanda', 'Islandia', 'Italia', 'Kazajistán', 'Kosovo', 'Letonia', 'Liechtenstein', 'Lituania', 'Luxemburgo', 'Macedonia del Norte', 'Malta', 'Moldavia', 'Mónaco', 'Montenegro', 'Noruega', 'Países Bajos', 'Polonia', 'Portugal', 'Reino Unido', 'República Checa', 'Rumania', 'Rusia', 'San Marino', 'Serbia', 'Suecia', 'Suiza', 'Turquía', 'Ucrania', 'Vaticano']\n"
          ]
        }
      ]
    },
    {
      "cell_type": "code",
      "source": [
        "#Lista_1  primeros 20 paises\n",
        "paises_del_1_al_20 = paises_europa[0:20]\n",
        "print(paises_del_1_al_20)"
      ],
      "metadata": {
        "colab": {
          "base_uri": "https://localhost:8080/"
        },
        "id": "UsbraYo57GqA",
        "outputId": "f6736c25-2510-433d-b122-3108d9c9b428"
      },
      "execution_count": 10,
      "outputs": [
        {
          "output_type": "stream",
          "name": "stdout",
          "text": [
            "['Albania', 'Alemania', 'Andorra', 'Armenia', 'Austria', 'Azerbaiyán', 'Bélgica', 'Bielorrusia', 'Bosnia y Herzegovina', 'Bulgaria', 'Chipre', 'Croacia', 'Dinamarca', 'Eslovaquia', 'Eslovenia', 'España', 'Estonia', 'Finlandia', 'Francia', 'Georgia']\n"
          ]
        }
      ]
    },
    {
      "cell_type": "code",
      "source": [
        "#Lista_2  paises del 21 al 40\n",
        "paises_del_21_al_40 = paises_europa[21:40]\n",
        "print(paises_del_21_al_40)"
      ],
      "metadata": {
        "colab": {
          "base_uri": "https://localhost:8080/"
        },
        "id": "7RqQWNE27wYU",
        "outputId": "96c9c0f5-540a-4146-c79a-1ad74713ca11"
      },
      "execution_count": 12,
      "outputs": [
        {
          "output_type": "stream",
          "name": "stdout",
          "text": [
            "['Hungría', 'Irlanda', 'Islandia', 'Italia', 'Kazajistán', 'Kosovo', 'Letonia', 'Liechtenstein', 'Lituania', 'Luxemburgo', 'Macedonia del Norte', 'Malta', 'Moldavia', 'Mónaco', 'Montenegro', 'Noruega', 'Países Bajos', 'Polonia', 'Portugal']\n"
          ]
        }
      ]
    },
    {
      "cell_type": "code",
      "source": [
        "#Lista_3  paises del 41 al 50\n",
        "paises_del_41_al_50 = paises_europa[41:50]\n",
        "print(paises_del_41_al_50)"
      ],
      "metadata": {
        "colab": {
          "base_uri": "https://localhost:8080/"
        },
        "id": "ycAsC9ed8ocw",
        "outputId": "edbabd25-28c7-426c-e2fb-519406207a94"
      },
      "execution_count": 13,
      "outputs": [
        {
          "output_type": "stream",
          "name": "stdout",
          "text": [
            "['República Checa', 'Rumania', 'Rusia', 'San Marino', 'Serbia', 'Suecia', 'Suiza', 'Turquía', 'Ucrania']\n"
          ]
        }
      ]
    },
    {
      "cell_type": "code",
      "source": [
        "paises_europa.append(\"China\")\n",
        "print(paises_europa)\n"
      ],
      "metadata": {
        "colab": {
          "base_uri": "https://localhost:8080/"
        },
        "id": "qOvJVpsN860f",
        "outputId": "d67f3466-7bb0-413b-991c-4d4ef0d42df8"
      },
      "execution_count": 15,
      "outputs": [
        {
          "output_type": "stream",
          "name": "stdout",
          "text": [
            "['Albania', 'Alemania', 'Andorra', 'Armenia', 'Austria', 'Azerbaiyán', 'Bélgica', 'Bielorrusia', 'Bosnia y Herzegovina', 'Bulgaria', 'Chipre', 'Croacia', 'Dinamarca', 'Eslovaquia', 'Eslovenia', 'España', 'Estonia', 'Finlandia', 'Francia', 'Georgia', 'Grecia', 'Hungría', 'Irlanda', 'Islandia', 'Italia', 'Kazajistán', 'Kosovo', 'Letonia', 'Liechtenstein', 'Lituania', 'Luxemburgo', 'Macedonia del Norte', 'Malta', 'Moldavia', 'Mónaco', 'Montenegro', 'Noruega', 'Países Bajos', 'Polonia', 'Portugal', 'Reino Unido', 'República Checa', 'Rumania', 'Rusia', 'San Marino', 'Serbia', 'Suecia', 'Suiza', 'Turquía', 'Ucrania', 'Vaticano', 'China']\n"
          ]
        }
      ]
    },
    {
      "cell_type": "code",
      "source": [
        "#agregar un dato en la posicion de la lista 0 china\n",
        "paises_europa.insert(0, \"China\")\n",
        "print(paises_europa)\n"
      ],
      "metadata": {
        "colab": {
          "base_uri": "https://localhost:8080/"
        },
        "id": "VbgThAZ39Y9L",
        "outputId": "c4180104-e785-444b-8d1f-f0b23a11b4fc"
      },
      "execution_count": 16,
      "outputs": [
        {
          "output_type": "stream",
          "name": "stdout",
          "text": [
            "['China', 'Albania', 'Alemania', 'Andorra', 'Armenia', 'Austria', 'Azerbaiyán', 'Bélgica', 'Bielorrusia', 'Bosnia y Herzegovina', 'Bulgaria', 'Chipre', 'Croacia', 'Dinamarca', 'Eslovaquia', 'Eslovenia', 'España', 'Estonia', 'Finlandia', 'Francia', 'Georgia', 'Grecia', 'Hungría', 'Irlanda', 'Islandia', 'Italia', 'Kazajistán', 'Kosovo', 'Letonia', 'Liechtenstein', 'Lituania', 'Luxemburgo', 'Macedonia del Norte', 'Malta', 'Moldavia', 'Mónaco', 'Montenegro', 'Noruega', 'Países Bajos', 'Polonia', 'Portugal', 'Reino Unido', 'República Checa', 'Rumania', 'Rusia', 'San Marino', 'Serbia', 'Suecia', 'Suiza', 'Turquía', 'Ucrania', 'Vaticano', 'China']\n"
          ]
        }
      ]
    },
    {
      "cell_type": "code",
      "source": [
        "#Paises latino america\n",
        "paises_latinoamerica = [\n",
        "    \"Argentina\", \"Bolivia\", \"Brasil\", \"Chile\", \"Colombia\", \"Costa Rica\", \"Cuba\",\n",
        "    \"Ecuador\", \"El Salvador\", \"Guatemala\", \"Honduras\", \"México\", \"Nicaragua\",\n",
        "    \"Panamá\", \"Paraguay\", \"Perú\", \"República Dominicana\", \"Uruguay\", \"Venezuela\"\n",
        "]\n",
        "\n",
        "print(paises_latinoamerica)\n"
      ],
      "metadata": {
        "colab": {
          "base_uri": "https://localhost:8080/"
        },
        "id": "2bB9ygf2-O5W",
        "outputId": "73f020ec-08c1-4f66-d1f3-eecd5405d68b"
      },
      "execution_count": 17,
      "outputs": [
        {
          "output_type": "stream",
          "name": "stdout",
          "text": [
            "['Argentina', 'Bolivia', 'Brasil', 'Chile', 'Colombia', 'Costa Rica', 'Cuba', 'Ecuador', 'El Salvador', 'Guatemala', 'Honduras', 'México', 'Nicaragua', 'Panamá', 'Paraguay', 'Perú', 'República Dominicana', 'Uruguay', 'Venezuela']\n"
          ]
        }
      ]
    },
    {
      "cell_type": "code",
      "source": [
        "#lista concatenada europa + america latina\n",
        "paises_completos = paises_europa,paises_latinoamerica\n",
        "print(paises_completos)\n"
      ],
      "metadata": {
        "colab": {
          "base_uri": "https://localhost:8080/"
        },
        "id": "U0QpQ8Nd-ai1",
        "outputId": "d7697a7c-d371-43a6-d7f4-bbda1f3bfe29"
      },
      "execution_count": 19,
      "outputs": [
        {
          "output_type": "stream",
          "name": "stdout",
          "text": [
            "(['China', 'Albania', 'Alemania', 'Andorra', 'Armenia', 'Austria', 'Azerbaiyán', 'Bélgica', 'Bielorrusia', 'Bosnia y Herzegovina', 'Bulgaria', 'Chipre', 'Croacia', 'Dinamarca', 'Eslovaquia', 'Eslovenia', 'España', 'Estonia', 'Finlandia', 'Francia', 'Georgia', 'Grecia', 'Hungría', 'Irlanda', 'Islandia', 'Italia', 'Kazajistán', 'Kosovo', 'Letonia', 'Liechtenstein', 'Lituania', 'Luxemburgo', 'Macedonia del Norte', 'Malta', 'Moldavia', 'Mónaco', 'Montenegro', 'Noruega', 'Países Bajos', 'Polonia', 'Portugal', 'Reino Unido', 'República Checa', 'Rumania', 'Rusia', 'San Marino', 'Serbia', 'Suecia', 'Suiza', 'Turquía', 'Ucrania', 'Vaticano', 'China'], ['Argentina', 'Bolivia', 'Brasil', 'Chile', 'Colombia', 'Costa Rica', 'Cuba', 'Ecuador', 'El Salvador', 'Guatemala', 'Honduras', 'México', 'Nicaragua', 'Panamá', 'Paraguay', 'Perú', 'República Dominicana', 'Uruguay', 'Venezuela'])\n"
          ]
        }
      ]
    },
    {
      "cell_type": "code",
      "source": [
        "# lista donde se ingrese Nombre,Edad y documento\n",
        "nombre_completo = input(\"Ingrese su nombre completo: \")\n",
        "edad = input(\"Ingrese su edad: \")\n",
        "numero_documento = input(\"Ingrese su número de documento: \")\n",
        "Datos=nombre_completo,edad,numero_documento\n",
        "Datos\n",
        "# Mostrar los datos ingresados\n",
        "print(\"Nombre completo:\", nombre_completo)\n",
        "print(\"Edad:\", edad)\n",
        "print(\"Número de documento:\", numero_documento)\n"
      ],
      "metadata": {
        "colab": {
          "base_uri": "https://localhost:8080/"
        },
        "id": "Jdczahq_-kB6",
        "outputId": "fa3fb1c5-b91a-4277-95ae-19d3673ba69c"
      },
      "execution_count": 22,
      "outputs": [
        {
          "output_type": "stream",
          "name": "stdout",
          "text": [
            "Ingrese su nombre completo: oscar\n",
            "Ingrese su edad: 33\n",
            "Ingrese su número de documento: 10236548865\n",
            "Nombre completo: oscar\n",
            "Edad: 33\n",
            "Número de documento: 10236548865\n"
          ]
        }
      ]
    },
    {
      "cell_type": "code",
      "source": [
        "#agregar pais de origen y si ese pais esta entre la lista de documentos que tengo\n",
        "# Listas de países (Europa + Latinoamérica)\n",
        "paises_europa = [\n",
        "    \"Albania\", \"Alemania\", \"Andorra\", \"Armenia\", \"Austria\", \"Azerbaiyán\", \"Bélgica\",\n",
        "    \"Bielorrusia\", \"Bosnia y Herzegovina\", \"Bulgaria\", \"Chipre\", \"Croacia\", \"Dinamarca\",\n",
        "    \"Eslovaquia\", \"Eslovenia\", \"España\", \"Estonia\", \"Finlandia\", \"Francia\", \"Georgia\"\n",
        "]\n",
        "\n",
        "paises_latinoamerica = [\n",
        "    \"Argentina\", \"Bolivia\", \"Brasil\", \"Chile\", \"Colombia\", \"Costa Rica\", \"Cuba\",\n",
        "    \"Ecuador\", \"El Salvador\", \"Guatemala\", \"Honduras\", \"México\", \"Nicaragua\",\n",
        "    \"Panamá\", \"Paraguay\", \"Perú\", \"República Dominicana\", \"Uruguay\", \"Venezuela\"\n",
        "]\n",
        "\n",
        "# Unir ambas listas\n",
        "paises_validos = paises_europa + paises_latinoamerica\n",
        "\n",
        "# Solicitar el país de origen\n",
        "pais_origen = input(\"Ingrese su país de origen: \")\n",
        "\n",
        "# Verificar si el país de origen está en la lista de países válidos\n",
        "if pais_origen in paises_validos:\n",
        "    print(f\"El país {pais_origen} está en la lista de países válidos.\")\n",
        "else:\n",
        "    print(f\"El país {pais_origen} no está en la lista de países válidos.\")"
      ],
      "metadata": {
        "colab": {
          "base_uri": "https://localhost:8080/"
        },
        "id": "x6VWwwt0AqwS",
        "outputId": "68ac9620-bab3-43ca-8c1c-7efed89c8b6c"
      },
      "execution_count": 24,
      "outputs": [
        {
          "output_type": "stream",
          "name": "stdout",
          "text": [
            "Ingrese su país de origen: COLOMBIA\n",
            "El país COLOMBIA no está en la lista de países válidos.\n"
          ]
        }
      ]
    },
    {
      "cell_type": "code",
      "source": [
        "#Quitar de los paises de europa China ya que no pertence\n",
        "# Eliminar \"China\" usando pop\n",
        "paises_europa.pop(0)  # Elimina el primer elemento, que es \"China\"\n",
        "\n",
        "# Mostrar la lista después de eliminar \"China\"\n",
        "print(paises_europa)\n"
      ],
      "metadata": {
        "colab": {
          "base_uri": "https://localhost:8080/"
        },
        "id": "exQhbfP4Ciw0",
        "outputId": "b4dcc6bf-c319-4b4c-ab60-c0c7512d18b5"
      },
      "execution_count": 25,
      "outputs": [
        {
          "output_type": "stream",
          "name": "stdout",
          "text": [
            "['Alemania', 'Andorra', 'Armenia', 'Austria', 'Azerbaiyán', 'Bélgica', 'Bielorrusia', 'Bosnia y Herzegovina', 'Bulgaria', 'Chipre', 'Croacia', 'Dinamarca', 'Eslovaquia', 'Eslovenia', 'España', 'Estonia', 'Finlandia', 'Francia', 'Georgia']\n"
          ]
        }
      ]
    },
    {
      "cell_type": "code",
      "source": [
        "# Lista de países (puedes agregar o modificar la lista según lo necesites)\n",
        "paises_europa = [\n",
        "    \"Albania\", \"Alemania\", \"Andorra\", \"Armenia\", \"Austria\", \"Azerbaiyán\", \"Bélgica\",\n",
        "    \"Bielorrusia\", \"Bosnia y Herzegovina\", \"Bulgaria\", \"Chipre\", \"Croacia\", \"Dinamarca\",\n",
        "    \"Eslovaquia\", \"Eslovenia\", \"España\", \"Estonia\", \"Finlandia\", \"Francia\", \"Georgia\"\n",
        "]\n",
        "\n",
        "# Ordenar la lista alfabéticamente\n",
        "paises_europa.sort()\n",
        "\n",
        "# Mostrar la lista ordenada\n",
        "print(paises_europa)\n"
      ],
      "metadata": {
        "id": "ROpi7x_hDSKz"
      },
      "execution_count": null,
      "outputs": []
    },
    {
      "cell_type": "code",
      "source": [
        "#si eres mayor de 18 y mayor de 62 y eres hombre ya deberias estar pensionado de lo contrario debes seguir trabajando\n",
        "# Solicitar datos al usuario\n",
        "edad = int(input(\"Ingrese su edad: \"))\n",
        "genero = input(\"Ingrese su género (hombre/mujer): \").lower()\n",
        "\n",
        "# Verificar si cumple con la condición para pensionarse\n",
        "if edad >= 61 and genero == \"hombre\":\n",
        "    print(\"Ya deberías estar pensionado.\")\n",
        "else:\n",
        "    print(\"Debes seguir trabajando.\")\n"
      ],
      "metadata": {
        "colab": {
          "base_uri": "https://localhost:8080/"
        },
        "id": "TcOX6VLxDxaN",
        "outputId": "c254576d-6271-4bda-ed37-dc510c914724"
      },
      "execution_count": 27,
      "outputs": [
        {
          "output_type": "stream",
          "name": "stdout",
          "text": [
            "Ingrese su edad: 55\n",
            "Ingrese su género (hombre/mujer): mujer\n",
            "Debes seguir trabajando.\n"
          ]
        }
      ]
    },
    {
      "cell_type": "code",
      "source": [
        "#crear programa imput que reciba nombre , edad , ubicacion , estatura , trabajo estable o no estable y  se debe realizar un resumen donde salga mi nombre estal y mido tanto.# Solicitar los datos al usuario\n",
        "nombre = input(\"Ingrese su nombre\")\n",
        "edad = input(\"Ingrese su edad\")\n",
        "ubicacion = input(\"Ingrese su ubicación\")\n",
        "estatura = input(\"Ingrese su estatura\")\n",
        "trabajo_estable = input(\"¿Tiene un trabajo estable? (sí/no)\")\n",
        "\n",
        "# Generar el resumen\n",
        "print(\"Resumen\")\n",
        "print(f\"Mi nombre es {nombre}, tengo {edad} años, vivo en {ubicacion}, mido {estatura} y mi trabajo es {'estable' if trabajo_estable == 'sí' else 'no estable'}.\")\n",
        ""
      ],
      "metadata": {
        "colab": {
          "base_uri": "https://localhost:8080/"
        },
        "id": "iWgDmoSoGXUf",
        "outputId": "dc106bd3-9470-4a83-f51d-f680b6b193a1"
      },
      "execution_count": 31,
      "outputs": [
        {
          "output_type": "stream",
          "name": "stdout",
          "text": [
            "Ingrese su nombreOscar\n",
            "Ingrese su edad44\n",
            "Ingrese su ubicaciónColombia\n",
            "Ingrese su estatura1.77\n",
            "¿Tiene un trabajo estable? (sí/no)SI\n",
            "Resumen\n",
            "Mi nombre es Oscar, tengo 44 años, vivo en Colombia, mido 1.77 y mi trabajo es no estable.\n"
          ]
        }
      ]
    }
  ]
}